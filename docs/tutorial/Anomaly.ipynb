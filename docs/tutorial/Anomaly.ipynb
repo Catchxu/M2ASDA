{
 "cells": [
  {
   "cell_type": "markdown",
   "metadata": {},
   "source": [
    "# Tutorial 1: Detecting anomalous cells from scRNA-seq human lung datasets\n",
    "In this tutorial, we will show how to use M2ASDA for detecting anomalous cells. Here, we use two human scRNA-seq datasets: a healthy lung tissue (also 10xG-hHL) and a lung cancer (also 10xG-hLC-A). Detailed information about these datasets will be provided as follows."
   ]
  },
  {
   "cell_type": "markdown",
   "metadata": {},
   "source": [
    "## Loading packages"
   ]
  },
  {
   "cell_type": "code",
   "execution_count": 1,
   "metadata": {},
   "outputs": [],
   "source": [
    "import warnings\n",
    "warnings.filterwarnings(\"ignore\")"
   ]
  },
  {
   "cell_type": "markdown",
   "metadata": {},
   "source": [
    "If you have pulled the project from GitHub and have not installed it as a package, you can import M2ASDA using a relative path."
   ]
  },
  {
   "cell_type": "code",
   "execution_count": 2,
   "metadata": {},
   "outputs": [],
   "source": [
    "import os\n",
    "\n",
    "# Change the working path to the source codes automatically\n",
    "notebook_path = os.path.abspath('')\n",
    "project_root = os.path.abspath(os.path.join(notebook_path, '..', '..'))\n",
    "\n",
    "src_path = os.path.join(project_root, 'src/')\n",
    "os.chdir(src_path)"
   ]
  },
  {
   "cell_type": "markdown",
   "metadata": {},
   "source": [
    "Then, m2asda and related packages can be loaded successfully. If you have installed M2ASDA as a package, you can skip the above step."
   ]
  },
  {
   "cell_type": "code",
   "execution_count": 3,
   "metadata": {},
   "outputs": [],
   "source": [
    "import m2asda\n",
    "\n",
    "import scanpy as sc\n",
    "import pandas as pd"
   ]
  },
  {
   "cell_type": "markdown",
   "metadata": {},
   "source": [
    "## Reading scRNA-seq datasets"
   ]
  },
  {
   "cell_type": "markdown",
   "metadata": {},
   "source": [
    "Here, we read two scRNA-seq datasets. The necessary input files should be formatted as `h5ad`, and include: expression matrix `.X`. Moreover, the reference dataset should include only normal cells, while the target dataset includes both normal and tumor cells. Additionally, in this tutorial, the meta data in `.obs` is mainly for evaluation, and is unnecessary for training."
   ]
  },
  {
   "cell_type": "code",
   "execution_count": 4,
   "metadata": {},
   "outputs": [
    {
     "data": {
      "text/html": [
       "<div>\n",
       "<style scoped>\n",
       "    .dataframe tbody tr th:only-of-type {\n",
       "        vertical-align: middle;\n",
       "    }\n",
       "\n",
       "    .dataframe tbody tr th {\n",
       "        vertical-align: top;\n",
       "    }\n",
       "\n",
       "    .dataframe thead th {\n",
       "        text-align: right;\n",
       "    }\n",
       "</style>\n",
       "<table border=\"1\" class=\"dataframe\">\n",
       "  <thead>\n",
       "    <tr style=\"text-align: right;\">\n",
       "      <th></th>\n",
       "      <th>cell.type</th>\n",
       "      <th>cell.subtype</th>\n",
       "      <th>cell.newtype</th>\n",
       "      <th>batch</th>\n",
       "      <th>tissue_type</th>\n",
       "      <th>detail_cell.type</th>\n",
       "    </tr>\n",
       "  </thead>\n",
       "  <tbody>\n",
       "    <tr>\n",
       "      <th>AAACCCAAGACATCCT-1</th>\n",
       "      <td>Epithelial</td>\n",
       "      <td>AT1</td>\n",
       "      <td>Epithelial</td>\n",
       "      <td>A</td>\n",
       "      <td>Normal</td>\n",
       "      <td>Epithelial_Normal</td>\n",
       "    </tr>\n",
       "    <tr>\n",
       "      <th>AAACCCACAAGTACCT-1</th>\n",
       "      <td>Immune</td>\n",
       "      <td>Macrophage</td>\n",
       "      <td>Immune (Myeloid)</td>\n",
       "      <td>A</td>\n",
       "      <td>Normal</td>\n",
       "      <td>Immune_Normal</td>\n",
       "    </tr>\n",
       "    <tr>\n",
       "      <th>AAACCCACACGCTATA-1</th>\n",
       "      <td>Immune</td>\n",
       "      <td>T_CD8</td>\n",
       "      <td>Immune (Lymphoid)</td>\n",
       "      <td>A</td>\n",
       "      <td>Normal</td>\n",
       "      <td>Immune_Normal</td>\n",
       "    </tr>\n",
       "    <tr>\n",
       "      <th>AAACCCACAGGTATGG-1</th>\n",
       "      <td>Immune</td>\n",
       "      <td>T_CD8</td>\n",
       "      <td>Immune (Lymphoid)</td>\n",
       "      <td>A</td>\n",
       "      <td>Normal</td>\n",
       "      <td>Immune_Normal</td>\n",
       "    </tr>\n",
       "    <tr>\n",
       "      <th>AAACCCAGTACAACGG-1</th>\n",
       "      <td>Immune</td>\n",
       "      <td>Macrophage_proliferating</td>\n",
       "      <td>Immune (Myeloid)</td>\n",
       "      <td>A</td>\n",
       "      <td>Normal</td>\n",
       "      <td>Immune_Normal</td>\n",
       "    </tr>\n",
       "    <tr>\n",
       "      <th>AAACCCAGTCCAGCGT-1</th>\n",
       "      <td>Immune</td>\n",
       "      <td>Macrophage</td>\n",
       "      <td>Immune (Myeloid)</td>\n",
       "      <td>A</td>\n",
       "      <td>Normal</td>\n",
       "      <td>Immune_Normal</td>\n",
       "    </tr>\n",
       "    <tr>\n",
       "      <th>AAACCCATCATAGGCT-1</th>\n",
       "      <td>Epithelial</td>\n",
       "      <td>Ciliated</td>\n",
       "      <td>Epithelial</td>\n",
       "      <td>A</td>\n",
       "      <td>Normal</td>\n",
       "      <td>Epithelial_Normal</td>\n",
       "    </tr>\n",
       "    <tr>\n",
       "      <th>AAACGAACAAGACCTT-1</th>\n",
       "      <td>Immune</td>\n",
       "      <td>Macrophage</td>\n",
       "      <td>Immune (Myeloid)</td>\n",
       "      <td>A</td>\n",
       "      <td>Normal</td>\n",
       "      <td>Immune_Normal</td>\n",
       "    </tr>\n",
       "    <tr>\n",
       "      <th>AAACGAACAGCGTGCT-1</th>\n",
       "      <td>Stromal</td>\n",
       "      <td>Lymphatic</td>\n",
       "      <td>Stromal</td>\n",
       "      <td>A</td>\n",
       "      <td>Normal</td>\n",
       "      <td>Stromal_Normal</td>\n",
       "    </tr>\n",
       "    <tr>\n",
       "      <th>AAACGAAGTCGGATTT-1</th>\n",
       "      <td>Immune</td>\n",
       "      <td>Macrophage</td>\n",
       "      <td>Immune (Myeloid)</td>\n",
       "      <td>A</td>\n",
       "      <td>Normal</td>\n",
       "      <td>Immune_Normal</td>\n",
       "    </tr>\n",
       "  </tbody>\n",
       "</table>\n",
       "</div>"
      ],
      "text/plain": [
       "                     cell.type              cell.subtype       cell.newtype  \\\n",
       "AAACCCAAGACATCCT-1  Epithelial                       AT1         Epithelial   \n",
       "AAACCCACAAGTACCT-1      Immune                Macrophage   Immune (Myeloid)   \n",
       "AAACCCACACGCTATA-1      Immune                     T_CD8  Immune (Lymphoid)   \n",
       "AAACCCACAGGTATGG-1      Immune                     T_CD8  Immune (Lymphoid)   \n",
       "AAACCCAGTACAACGG-1      Immune  Macrophage_proliferating   Immune (Myeloid)   \n",
       "AAACCCAGTCCAGCGT-1      Immune                Macrophage   Immune (Myeloid)   \n",
       "AAACCCATCATAGGCT-1  Epithelial                  Ciliated         Epithelial   \n",
       "AAACGAACAAGACCTT-1      Immune                Macrophage   Immune (Myeloid)   \n",
       "AAACGAACAGCGTGCT-1     Stromal                 Lymphatic            Stromal   \n",
       "AAACGAAGTCGGATTT-1      Immune                Macrophage   Immune (Myeloid)   \n",
       "\n",
       "                   batch tissue_type   detail_cell.type  \n",
       "AAACCCAAGACATCCT-1     A      Normal  Epithelial_Normal  \n",
       "AAACCCACAAGTACCT-1     A      Normal      Immune_Normal  \n",
       "AAACCCACACGCTATA-1     A      Normal      Immune_Normal  \n",
       "AAACCCACAGGTATGG-1     A      Normal      Immune_Normal  \n",
       "AAACCCAGTACAACGG-1     A      Normal      Immune_Normal  \n",
       "AAACCCAGTCCAGCGT-1     A      Normal      Immune_Normal  \n",
       "AAACCCATCATAGGCT-1     A      Normal  Epithelial_Normal  \n",
       "AAACGAACAAGACCTT-1     A      Normal      Immune_Normal  \n",
       "AAACGAACAGCGTGCT-1     A      Normal     Stromal_Normal  \n",
       "AAACGAAGTCGGATTT-1     A      Normal      Immune_Normal  "
      ]
     },
     "execution_count": 4,
     "metadata": {},
     "output_type": "execute_result"
    }
   ],
   "source": [
    "# Normal dataset\n",
    "ref = sc.read_h5ad('/volume3/kxu/scdata/Cancer/Process_A.h5ad')  # replace as your path\n",
    "ref.obs.head(10)"
   ]
  },
  {
   "cell_type": "code",
   "execution_count": 5,
   "metadata": {},
   "outputs": [
    {
     "data": {
      "text/plain": [
       "AnnData object with n_obs × n_vars = 8104 × 3000\n",
       "    obs: 'cell.type', 'cell.subtype', 'cell.newtype', 'batch', 'tissue_type', 'detail_cell.type'\n",
       "    var: 'name'\n",
       "    uns: 'cell.newtype_colors', 'cell.subtype_colors', 'cell.type_colors', 'log1p', 'neighbors', 'pca', 'umap'\n",
       "    obsm: 'X_pca', 'X_umap'\n",
       "    varm: 'PCs'\n",
       "    obsp: 'connectivities', 'distances'"
      ]
     },
     "execution_count": 5,
     "metadata": {},
     "output_type": "execute_result"
    }
   ],
   "source": [
    "ref"
   ]
  },
  {
   "cell_type": "code",
   "execution_count": 6,
   "metadata": {},
   "outputs": [
    {
     "data": {
      "text/html": [
       "<div>\n",
       "<style scoped>\n",
       "    .dataframe tbody tr th:only-of-type {\n",
       "        vertical-align: middle;\n",
       "    }\n",
       "\n",
       "    .dataframe tbody tr th {\n",
       "        vertical-align: top;\n",
       "    }\n",
       "\n",
       "    .dataframe thead th {\n",
       "        text-align: right;\n",
       "    }\n",
       "</style>\n",
       "<table border=\"1\" class=\"dataframe\">\n",
       "  <thead>\n",
       "    <tr style=\"text-align: right;\">\n",
       "      <th></th>\n",
       "      <th>tissue_type</th>\n",
       "      <th>cell.type</th>\n",
       "      <th>cell.subtype</th>\n",
       "      <th>detail_cell.type</th>\n",
       "      <th>cell.newtype</th>\n",
       "    </tr>\n",
       "  </thead>\n",
       "  <tbody>\n",
       "    <tr>\n",
       "      <th>AAACCCAAGATAGGGA-1</th>\n",
       "      <td>Normal</td>\n",
       "      <td>Immune</td>\n",
       "      <td>B</td>\n",
       "      <td>Immune_Normal</td>\n",
       "      <td>Immune (Lymphoid)</td>\n",
       "    </tr>\n",
       "    <tr>\n",
       "      <th>AAACCCAAGTAGCATA-1</th>\n",
       "      <td>Tumor</td>\n",
       "      <td>Immune</td>\n",
       "      <td>T_conv</td>\n",
       "      <td>Immune_Tumor</td>\n",
       "      <td>Immune (Lymphoid)</td>\n",
       "    </tr>\n",
       "    <tr>\n",
       "      <th>AAACCCACAGTCAGAG-1</th>\n",
       "      <td>Tumor</td>\n",
       "      <td>Epithelial</td>\n",
       "      <td>Tumor</td>\n",
       "      <td>Epithelial_Tumor</td>\n",
       "      <td>Epithelial</td>\n",
       "    </tr>\n",
       "    <tr>\n",
       "      <th>AAACCCACAGTCTCTC-1</th>\n",
       "      <td>Tumor</td>\n",
       "      <td>Immune</td>\n",
       "      <td>Monocyte</td>\n",
       "      <td>Immune_Tumor</td>\n",
       "      <td>Immune (Myeloid)</td>\n",
       "    </tr>\n",
       "    <tr>\n",
       "      <th>AAACCCAGTTATAGAG-1</th>\n",
       "      <td>Normal</td>\n",
       "      <td>Immune</td>\n",
       "      <td>T_CD8</td>\n",
       "      <td>Immune_Normal</td>\n",
       "      <td>Immune (Lymphoid)</td>\n",
       "    </tr>\n",
       "    <tr>\n",
       "      <th>AAACCCAGTTCGGCCA-1</th>\n",
       "      <td>Normal</td>\n",
       "      <td>Immune</td>\n",
       "      <td>T_CD8</td>\n",
       "      <td>Immune_Normal</td>\n",
       "      <td>Immune (Lymphoid)</td>\n",
       "    </tr>\n",
       "    <tr>\n",
       "      <th>AAACCCATCCGGTAGC-1</th>\n",
       "      <td>Normal</td>\n",
       "      <td>Immune</td>\n",
       "      <td>NK</td>\n",
       "      <td>Immune_Normal</td>\n",
       "      <td>Immune (Lymphoid)</td>\n",
       "    </tr>\n",
       "    <tr>\n",
       "      <th>AAACCCATCCGTGGCA-1</th>\n",
       "      <td>Normal</td>\n",
       "      <td>Stromal</td>\n",
       "      <td>Fibro</td>\n",
       "      <td>Stromal_Normal</td>\n",
       "      <td>Stromal</td>\n",
       "    </tr>\n",
       "    <tr>\n",
       "      <th>AAACGAAAGTAAGCAT-1</th>\n",
       "      <td>Normal</td>\n",
       "      <td>Immune</td>\n",
       "      <td>NK</td>\n",
       "      <td>Immune_Normal</td>\n",
       "      <td>Immune (Lymphoid)</td>\n",
       "    </tr>\n",
       "    <tr>\n",
       "      <th>AAACGAACATGCTGCG-1</th>\n",
       "      <td>Normal</td>\n",
       "      <td>Immune</td>\n",
       "      <td>Mast</td>\n",
       "      <td>Immune_Normal</td>\n",
       "      <td>Immune (Myeloid)</td>\n",
       "    </tr>\n",
       "  </tbody>\n",
       "</table>\n",
       "</div>"
      ],
      "text/plain": [
       "                   tissue_type   cell.type cell.subtype  detail_cell.type  \\\n",
       "AAACCCAAGATAGGGA-1      Normal      Immune            B     Immune_Normal   \n",
       "AAACCCAAGTAGCATA-1       Tumor      Immune       T_conv      Immune_Tumor   \n",
       "AAACCCACAGTCAGAG-1       Tumor  Epithelial        Tumor  Epithelial_Tumor   \n",
       "AAACCCACAGTCTCTC-1       Tumor      Immune     Monocyte      Immune_Tumor   \n",
       "AAACCCAGTTATAGAG-1      Normal      Immune        T_CD8     Immune_Normal   \n",
       "AAACCCAGTTCGGCCA-1      Normal      Immune        T_CD8     Immune_Normal   \n",
       "AAACCCATCCGGTAGC-1      Normal      Immune           NK     Immune_Normal   \n",
       "AAACCCATCCGTGGCA-1      Normal     Stromal        Fibro    Stromal_Normal   \n",
       "AAACGAAAGTAAGCAT-1      Normal      Immune           NK     Immune_Normal   \n",
       "AAACGAACATGCTGCG-1      Normal      Immune         Mast     Immune_Normal   \n",
       "\n",
       "                         cell.newtype  \n",
       "AAACCCAAGATAGGGA-1  Immune (Lymphoid)  \n",
       "AAACCCAAGTAGCATA-1  Immune (Lymphoid)  \n",
       "AAACCCACAGTCAGAG-1         Epithelial  \n",
       "AAACCCACAGTCTCTC-1   Immune (Myeloid)  \n",
       "AAACCCAGTTATAGAG-1  Immune (Lymphoid)  \n",
       "AAACCCAGTTCGGCCA-1  Immune (Lymphoid)  \n",
       "AAACCCATCCGGTAGC-1  Immune (Lymphoid)  \n",
       "AAACCCATCCGTGGCA-1            Stromal  \n",
       "AAACGAAAGTAAGCAT-1  Immune (Lymphoid)  \n",
       "AAACGAACATGCTGCG-1   Immune (Myeloid)  "
      ]
     },
     "execution_count": 6,
     "metadata": {},
     "output_type": "execute_result"
    }
   ],
   "source": [
    "# Anomaly dataset\n",
    "tgt = sc.read_h5ad('/volume3/kxu/scdata/Cancer/Process_B.h5ad')  # replace as your path\n",
    "tgt.obs.head(10)"
   ]
  },
  {
   "cell_type": "code",
   "execution_count": 7,
   "metadata": {},
   "outputs": [
    {
     "data": {
      "text/plain": [
       "AnnData object with n_obs × n_vars = 7721 × 3000\n",
       "    obs: 'tissue_type', 'cell.type', 'cell.subtype', 'detail_cell.type', 'cell.newtype'\n",
       "    var: 'name'\n",
       "    uns: 'cell.newtype_colors', 'cell.subtype_colors', 'cell.type_colors', 'log1p', 'neighbors', 'pca', 'umap'\n",
       "    obsm: 'X_pca', 'X_umap'\n",
       "    varm: 'PCs'\n",
       "    obsp: 'connectivities', 'distances'"
      ]
     },
     "execution_count": 7,
     "metadata": {},
     "output_type": "execute_result"
    }
   ],
   "source": [
    "tgt"
   ]
  },
  {
   "cell_type": "markdown",
   "metadata": {},
   "source": [
    "## Training your model"
   ]
  },
  {
   "cell_type": "markdown",
   "metadata": {},
   "source": [
    "M2ASDA supports automatic hyperparameter import. Here, the configuration obtained is a class. If you need to modify the hyperparameters, please modify the value of its attributes."
   ]
  },
  {
   "cell_type": "code",
   "execution_count": 8,
   "metadata": {},
   "outputs": [
    {
     "data": {
      "text/plain": [
       "{'n_epochs': 50,\n",
       " 'batch_size': 256,\n",
       " 'learning_rate': 0.0001,\n",
       " 'n_critic': 2,\n",
       " 'alpha': 30,\n",
       " 'beta': 10,\n",
       " 'gamma': 1,\n",
       " 'lamb': 10,\n",
       " 'GPU': 'cuda:0',\n",
       " 'random_state': 2024,\n",
       " 'n_genes': 3000}"
      ]
     },
     "execution_count": 8,
     "metadata": {},
     "output_type": "execute_result"
    }
   ],
   "source": [
    "configs = m2asda.AnomalyConfigs()\n",
    "configs = configs.__dict__\n",
    "configs"
   ]
  },
  {
   "cell_type": "code",
   "execution_count": 9,
   "metadata": {},
   "outputs": [
    {
     "name": "stdout",
     "output_type": "stream",
     "text": [
      "Begin to train M2ASDA on the reference dataset...\n"
     ]
    },
    {
     "name": "stderr",
     "output_type": "stream",
     "text": [
      "Training Epochs: 100%|██████████| 50/50 [02:09<00:00,  2.59s/it, D_Loss=-2.34, G_Loss=6.02] "
     ]
    },
    {
     "name": "stdout",
     "output_type": "stream",
     "text": [
      "Training process has been finished.\n"
     ]
    },
    {
     "name": "stderr",
     "output_type": "stream",
     "text": [
      "\n"
     ]
    }
   ],
   "source": [
    "model = m2asda.AnomalyModel(**configs)\n",
    "model.train(ref)"
   ]
  },
  {
   "cell_type": "markdown",
   "metadata": {},
   "source": [
    "## Predicting and evaluation"
   ]
  },
  {
   "cell_type": "markdown",
   "metadata": {},
   "source": [
    "When predicting anomalous cells, M2ASDA supports two modes: 1) outputting an anomaly score of [0,1], where a higher score indicates a higher anomaly probability; 2) outputting a judgment result of 0 or 1. And 1 indicates an anomalous cell, and 0 indicates a normal cell."
   ]
  },
  {
   "cell_type": "code",
   "execution_count": 10,
   "metadata": {},
   "outputs": [],
   "source": [
    "from sklearn.metrics import f1_score, accuracy_score, roc_auc_score\n",
    "y_true = tgt.obs['tissue_type'] == 'Tumor'"
   ]
  },
  {
   "cell_type": "code",
   "execution_count": 11,
   "metadata": {},
   "outputs": [
    {
     "name": "stdout",
     "output_type": "stream",
     "text": [
      "Begin to detect anomalies on the target dataset...\n"
     ]
    },
    {
     "name": "stdout",
     "output_type": "stream",
     "text": [
      "Anomalous spots have been detected.\n"
     ]
    },
    {
     "name": "stderr",
     "output_type": "stream",
     "text": [
      "Inference Epochs:  23%|██▎       | 23/100 [00:00<00:01, 65.54it/s]\n"
     ]
    },
    {
     "name": "stdout",
     "output_type": "stream",
     "text": [
      "GMM-based thresholder has converged.\n",
      "Accuracy: 0.8858956093770237  F1-score: 0.8857476332511995  ROC-AUC: 0.9555073273618315\n"
     ]
    }
   ],
   "source": [
    "score, label = model.predict(tgt, True)\n",
    "df = pd.DataFrame({'score': score, 'label': label, 'true': y_true}, index=tgt.obs_names)\n",
    "acc = accuracy_score(df['true'], df['label'])\n",
    "f1 = f1_score(df['true'], df['label'])\n",
    "roc_auc = roc_auc_score(df['true'], df['score'])\n",
    "print(f'Accuracy: {acc}  F1-score: {f1}  ROC-AUC: {roc_auc}')"
   ]
  },
  {
   "cell_type": "markdown",
   "metadata": {},
   "source": [
    "## Running in Terminal\n",
    "M2ASDA also supports running in terminal. All acceptable parameters and their descriptions are described below:"
   ]
  },
  {
   "cell_type": "code",
   "execution_count": 12,
   "metadata": {},
   "outputs": [
    {
     "name": "stdout",
     "output_type": "stream",
     "text": [
      "/usr/local/anaconda3/lib/python3.9/runpy.py:127: RuntimeWarning: 'm2asda.anomaly' found in sys.modules after import of package 'm2asda', but prior to execution of 'm2asda.anomaly'; this may result in unpredictable behaviour\n",
      "  warn(RuntimeWarning(msg))\n",
      "usage: anomaly.py [-h] [--ref_path REF_PATH] [--tgt_path TGT_PATH]\n",
      "                  [--result_path RESULT_PATH] [--pth_path PTH_PATH]\n",
      "                  [--n_epochs N_EPOCHS] [--batch_size BATCH_SIZE]\n",
      "                  [--learning_rate LEARNING_RATE] [--n_critic N_CRITIC]\n",
      "                  [--alpha ALPHA] [--beta BETA] [--gamma GAMMA]\n",
      "                  [--lambda LAMBDA] [--GPU GPU] [--random_state RANDOM_STATE]\n",
      "                  [--n_genes N_GENES] [--run_gmm RUN_GMM]\n",
      "\n",
      "M2ASDA for anomaly detection.\n",
      "\n",
      "optional arguments:\n",
      "  -h, --help            show this help message and exit\n",
      "\n",
      "Data Parameters:\n",
      "  --ref_path REF_PATH   Path to read the reference h5ad file\n",
      "  --tgt_path TGT_PATH   Path to read the target h5ad file\n",
      "  --result_path RESULT_PATH\n",
      "                        Path to save the output csv file\n",
      "  --pth_path PTH_PATH   Path to save the trained generator\n",
      "\n",
      "AnomalyModel Parameters:\n",
      "  --n_epochs N_EPOCHS   Number of epochs\n",
      "  --batch_size BATCH_SIZE\n",
      "                        Batch size\n",
      "  --learning_rate LEARNING_RATE\n",
      "                        Learning rate\n",
      "  --n_critic N_CRITIC   Number of discriminator iterations per generator\n",
      "                        iteration\n",
      "  --alpha ALPHA         Loss weight alpha\n",
      "  --beta BETA           Loss weight beta\n",
      "  --gamma GAMMA         Loss weight gamma\n",
      "  --lambda LAMBDA       Loss weight lambda\n",
      "  --GPU GPU             GPU ID for training, e.g., cuda:0\n",
      "  --random_state RANDOM_STATE\n",
      "                        Random seed\n",
      "  --n_genes N_GENES     Number of genes\n",
      "  --run_gmm RUN_GMM     Run GMM for obtaining binary label\n"
     ]
    }
   ],
   "source": [
    "!python -m m2asda.anomaly --h"
   ]
  },
  {
   "cell_type": "markdown",
   "metadata": {},
   "source": [
    "Then, you should set the path to 1) read reference dataset; 2) read target dataset; 3) save the output result csv file; 4) save the trained generator (optional). Here, saving trained file is mainly for the next steps, batch alignment and subtyping."
   ]
  },
  {
   "cell_type": "code",
   "execution_count": 13,
   "metadata": {},
   "outputs": [
    {
     "name": "stdout",
     "output_type": "stream",
     "text": [
      "/usr/local/anaconda3/lib/python3.9/runpy.py:127: RuntimeWarning: 'm2asda.anomaly' found in sys.modules after import of package 'm2asda', but prior to execution of 'm2asda.anomaly'; this may result in unpredictable behaviour\n",
      "  warn(RuntimeWarning(msg))\n",
      "=============== AnomalyModel Parameters ===============\n",
      "n_epochs = 50\n",
      "batch_size = 256\n",
      "learning_rate = 0.0001\n",
      "n_critic = 2\n",
      "random_state = 2024\n",
      "n_genes = 3000\n",
      "device = cuda:0\n",
      "loss_weight = {'alpha': 30, 'beta': 10, 'gamma': 1, 'lambda': 10}\n",
      "g_configs = {'input_dim': 3000, 'hidden_dim': [1024, 512, 256], 'latent_dim': 256, 'memory_size': 512, 'threshold': 0.005, 'temperature': 0.1, 'normalization': True, 'activation': True, 'dropout': 0.1}\n",
      "d_configs = {'input_dim': 3000, 'hidden_dim': [1024, 512, 256], 'latent_dim': 256, 'normalization': True, 'activation': True, 'dropout': 0.1}\n",
      "gmm_configs = {'random_state': 2024, 'max_iter': 100, 'tol': 1e-05, 'prior_beta': [1, 10]}\n",
      "=============== AnomalyModel Training ===============\n",
      "Begin to train M2ASDA on the reference dataset...\n",
      "Training Epochs: 100%|█| 50/50 [02:11<00:00,  2.62s/it, D_Loss=-2.02, G_Loss=7.2\n",
      "Training process has been finished.\n",
      "Begin to detect anomalies on the target dataset...\n",
      "Anomalous spots have been detected.\n",
      "Inference Epochs:  23%|█████▌                  | 23/100 [00:00<00:01, 71.98it/s]GMM-based thresholder has converged.\n",
      "Inference Epochs:  23%|█████▌                  | 23/100 [00:00<00:01, 68.86it/s]\n",
      "Prediction result have been saved at ../results/anomaly.csv!\n"
     ]
    }
   ],
   "source": [
    "!python -m m2asda.anomaly \\\n",
    "    --ref_path '/volume3/kxu/scdata/Cancer/Process_A.h5ad' \\\n",
    "    --tgt_path '/volume3/kxu/scdata/Cancer/Process_B.h5ad' \\\n",
    "    --result_path '../results/anomaly.csv'"
   ]
  }
 ],
 "metadata": {
  "kernelspec": {
   "display_name": "base",
   "language": "python",
   "name": "python3"
  },
  "language_info": {
   "codemirror_mode": {
    "name": "ipython",
    "version": 3
   },
   "file_extension": ".py",
   "mimetype": "text/x-python",
   "name": "python",
   "nbconvert_exporter": "python",
   "pygments_lexer": "ipython3",
   "version": "3.9.15"
  }
 },
 "nbformat": 4,
 "nbformat_minor": 4
}

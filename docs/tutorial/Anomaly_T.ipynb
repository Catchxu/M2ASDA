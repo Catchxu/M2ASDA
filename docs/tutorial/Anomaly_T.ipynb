{
 "cells": [
  {
   "cell_type": "markdown",
   "metadata": {},
   "source": [
    "# Tutorial 2: Detecting anomalous cells from scRNA-seq human lung datasets (in terminal)\n",
    "M2ASDA also supports running in terminal. In this case, there is no need to install the Python package, and a single command can implement the pipeline of training and saving the results from scratch.\n",
    "\n",
    "In this tutorial, we will show how to use M2ASDA for detecting anomalous cells. Here, we use two human scRNA-seq datasets: a healthy lung tissue (also 10xG-hHL) and a lung cancer (also 10xG-hLC-A). Detailed information about these datasets will be provided as follows."
   ]
  },
  {
   "cell_type": "markdown",
   "metadata": {},
   "source": [
    "## Setting working path"
   ]
  },
  {
   "cell_type": "code",
   "execution_count": 1,
   "metadata": {},
   "outputs": [],
   "source": [
    "import os\n",
    "\n",
    "# Change the working path to the source codes automatically\n",
    "notebook_path = os.path.abspath('')\n",
    "project_root = os.path.abspath(os.path.join(notebook_path, '..', '..'))\n",
    "\n",
    "src_path = os.path.join(project_root, 'src/')\n",
    "os.chdir(src_path)"
   ]
  },
  {
   "cell_type": "markdown",
   "metadata": {},
   "source": [
    "## Running in Terminal\n",
    "M2ASDA also supports running in terminal. All acceptable parameters and their descriptions are described below:"
   ]
  },
  {
   "cell_type": "code",
   "execution_count": 2,
   "metadata": {},
   "outputs": [
    {
     "name": "stdout",
     "output_type": "stream",
     "text": [
      "/usr/local/anaconda3/lib/python3.9/runpy.py:127: RuntimeWarning: 'm2asda.anomaly' found in sys.modules after import of package 'm2asda', but prior to execution of 'm2asda.anomaly'; this may result in unpredictable behaviour\n",
      "  warn(RuntimeWarning(msg))\n",
      "usage: anomaly.py [-h] [--ref_path REF_PATH] [--tgt_path TGT_PATH]\n",
      "                  [--result_path RESULT_PATH] [--pth_path PTH_PATH]\n",
      "                  [--n_epochs N_EPOCHS] [--batch_size BATCH_SIZE]\n",
      "                  [--learning_rate LEARNING_RATE] [--n_critic N_CRITIC]\n",
      "                  [--alpha ALPHA] [--beta BETA] [--gamma GAMMA]\n",
      "                  [--lambda LAMBDA] [--GPU GPU] [--random_state RANDOM_STATE]\n",
      "                  [--n_genes N_GENES] [--run_gmm RUN_GMM]\n",
      "\n",
      "M2ASDA for anomaly detection.\n",
      "\n",
      "optional arguments:\n",
      "  -h, --help            show this help message and exit\n",
      "\n",
      "Data Parameters:\n",
      "  --ref_path REF_PATH   Path to read the reference h5ad file\n",
      "  --tgt_path TGT_PATH   Path to read the target h5ad file\n",
      "  --result_path RESULT_PATH\n",
      "                        Path to save the output csv file\n",
      "  --pth_path PTH_PATH   Path to save the trained generator\n",
      "\n",
      "AnomalyModel Parameters:\n",
      "  --n_epochs N_EPOCHS   Number of epochs\n",
      "  --batch_size BATCH_SIZE\n",
      "                        Batch size\n",
      "  --learning_rate LEARNING_RATE\n",
      "                        Learning rate\n",
      "  --n_critic N_CRITIC   Number of discriminator iterations per generator\n",
      "                        iteration\n",
      "  --alpha ALPHA         Loss weight alpha\n",
      "  --beta BETA           Loss weight beta\n",
      "  --gamma GAMMA         Loss weight gamma\n",
      "  --lambda LAMBDA       Loss weight lambda\n",
      "  --GPU GPU             GPU ID for training, e.g., cuda:0\n",
      "  --random_state RANDOM_STATE\n",
      "                        Random seed\n",
      "  --n_genes N_GENES     Number of genes\n",
      "  --run_gmm RUN_GMM     Run GMM for obtaining binary label\n"
     ]
    }
   ],
   "source": [
    "!python -m m2asda.anomaly --h"
   ]
  },
  {
   "cell_type": "markdown",
   "metadata": {},
   "source": [
    "Then, you should set the path to 1) read reference dataset; 2) read target dataset; 3) save the output result csv file; 4) save the trained generator (optional). Here, saving trained file is mainly for the next steps, batch alignment and subtyping."
   ]
  },
  {
   "cell_type": "code",
   "execution_count": 3,
   "metadata": {},
   "outputs": [
    {
     "name": "stdout",
     "output_type": "stream",
     "text": [
      "/usr/local/anaconda3/lib/python3.9/runpy.py:127: RuntimeWarning: 'm2asda.anomaly' found in sys.modules after import of package 'm2asda', but prior to execution of 'm2asda.anomaly'; this may result in unpredictable behaviour\n",
      "  warn(RuntimeWarning(msg))\n",
      "=============== AnomalyModel Parameters ===============\n",
      "n_epochs = 30\n",
      "batch_size = 256\n",
      "learning_rate = 0.0001\n",
      "n_critic = 2\n",
      "random_state = 2024\n",
      "n_genes = 3000\n",
      "device = cuda:0\n",
      "loss_weight = {'alpha': 30, 'beta': 10, 'gamma': 1, 'lambda': 10}\n",
      "g_configs = {'input_dim': 3000, 'hidden_dim': [1024, 512, 256], 'latent_dim': 256, 'memory_size': 512, 'threshold': 0.005, 'temperature': 0.1, 'normalization': True, 'activation': True, 'dropout': 0.1}\n",
      "d_configs = {'input_dim': 3000, 'hidden_dim': [1024, 512, 256], 'latent_dim': 256, 'normalization': True, 'activation': True, 'dropout': 0.1}\n",
      "gmm_configs = {'random_state': 2024, 'max_iter': 100, 'tol': 1e-05, 'prior_beta': [1, 10]}\n",
      "\n",
      "\n",
      "=============== AnomalyModel Training ===============\n",
      "Begin to train M2ASDA on the reference dataset...\n",
      "Training Epochs: 100%|█| 30/30 [01:17<00:00,  2.57s/it, D_Loss=-1.32, G_Loss=7.3\n",
      "Training process has been finished.\n",
      "Begin to detect anomalies on the target dataset...\n",
      "Anomalous spots have been detected.\n",
      "Inference Epochs:  22%|█████▎                  | 22/100 [00:00<00:01, 75.79it/s]GMM-based thresholder has converged.\n",
      "Inference Epochs:  22%|█████▎                  | 22/100 [00:00<00:01, 72.43it/s]\n",
      "\n",
      "\n",
      "=============== Result Saving ===============\n",
      "Prediction result has been saved at ../results/anomaly.csv!\n",
      "Generator has been saved at ../results/generator.pth!\n"
     ]
    }
   ],
   "source": [
    "!python -m m2asda.anomaly \\\n",
    "    --ref_path '/volume3/kxu/scdata/Cancer/Process_A.h5ad' \\\n",
    "    --tgt_path '/volume3/kxu/scdata/Cancer/Process_B.h5ad' \\\n",
    "    --result_path '../results/anomaly.csv' \\\n",
    "    --pth_path '../results/generator.pth'"
   ]
  }
 ],
 "metadata": {
  "kernelspec": {
   "display_name": "base",
   "language": "python",
   "name": "python3"
  },
  "language_info": {
   "codemirror_mode": {
    "name": "ipython",
    "version": 3
   },
   "file_extension": ".py",
   "mimetype": "text/x-python",
   "name": "python",
   "nbconvert_exporter": "python",
   "pygments_lexer": "ipython3",
   "version": "3.9.15"
  }
 },
 "nbformat": 4,
 "nbformat_minor": 4
}
